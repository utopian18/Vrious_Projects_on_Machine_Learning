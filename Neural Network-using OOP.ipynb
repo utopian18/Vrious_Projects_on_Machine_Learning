{
 "cells": [
  {
   "cell_type": "code",
   "execution_count": 1,
   "metadata": {},
   "outputs": [],
   "source": [
    "import numpy as np\n",
    "import scipy.special\n",
    "\n",
    "\n",
    "class Neural_network():\n",
    "    def __init__(self, input_nodes, hidden_nodes, output_nodes, lr):\n",
    "        self.inods= input_nodes\n",
    "        self.hnods= hidden_nodes\n",
    "        self.onods= output_nodes\n",
    "        self.lr= lr\n",
    "        self.wih= np.random.normal(0.0, pow(self.hnods, -0.5), (self.hnods, self.inods))  #3,3\n",
    "        self.who= np.random.normal(0.0, pow(self.onods, -0.5), (self.onods, self.hnods))  #3,3\n",
    "        self.activation_function= lambda x:scipy.special.expit(x)\n",
    "    \n",
    "    def train(self, input_list, target_list):\n",
    "        inputs = np.array(input_list, ndmin=2).T  \n",
    "        targets = np.array(target_list, ndmin=2).T\n",
    "    #feed forward\n",
    "        #calculate signals into hidden layers\n",
    "        hidden_input= self.wih.dot(inputs)\n",
    "        hidden_output= self.activation_function(hidden_input)\n",
    "        #calculate signals into output layers\n",
    "        final_input= self.who.dot(hidden_output)\n",
    "        final_output= self.activation_function(final_input)\n",
    "    #back propagation\n",
    "        #error\n",
    "        output_error = targets- final_output\n",
    "        hidden_error = self.who.T.dot(output_error)\n",
    "        #updating the weights between output-hidden\n",
    "        \"\"\"\"\n",
    "        w = w + lr*Error*sigmoid(output_k_node)*(1- output_k_node).dot(output_j_node)\n",
    "        \"\"\"\n",
    "        self.who += self.lr*(output_error*final_output*(1-final_output)).dot(hidden_output.T)\n",
    "        self.wih += self.lr*(hidden_error*hidden_output*(1-hidden_output)).dot(inputs.T)\n",
    "#         self.wih += self.lr * numpy.dot((hidden_errors * hidden_outputs * (1.0 - hidden_outputs)), numpy.transpose(inputs))\n",
    "    def query(self, input_list):\n",
    "        inputs = np.array(input_list, ndmin=2).T    #need 3,1 for this need transpos\n",
    "        hidden_inputs= self.wih.dot(inputs)\n",
    "        hidden_output= self.activation_function((hidden_inputs))\n",
    "        final_inputs= self.who.dot(hidden_output)\n",
    "        final_outputs= self.activation_function(final_inputs)\n",
    "        \n",
    "        return final_outputs \n",
    "    \n",
    "input_nodes= 784\n",
    "output_nodes= 10\n",
    "hidden_nodes=100\n",
    "lr= 0.3\n",
    "n= Neural_network(input_nodes, hidden_nodes, output_nodes, lr)\n",
    "# n.query([1,2,3])\n"
   ]
  },
  {
   "cell_type": "code",
   "execution_count": 2,
   "metadata": {},
   "outputs": [],
   "source": [
    "data_file = open('mnist_train_100.csv', 'r')\n",
    "data_list = data_file.readlines()\n",
    "data_file.close()"
   ]
  },
  {
   "cell_type": "code",
   "execution_count": 3,
   "metadata": {},
   "outputs": [],
   "source": [
    "import numpy as np\n",
    "import matplotlib.pyplot as plt"
   ]
  },
  {
   "cell_type": "code",
   "execution_count": 4,
   "metadata": {},
   "outputs": [
    {
     "data": {
      "text/plain": [
       "<matplotlib.image.AxesImage at 0x20e5aa51108>"
      ]
     },
     "execution_count": 4,
     "metadata": {},
     "output_type": "execute_result"
    },
    {
     "data": {
      "image/png": "[encoded data removed]",
      "text/plain": [
       "<Figure size 432x288 with 1 Axes>"
      ]
     },
     "metadata": {
      "needs_background": "light"
     },
     "output_type": "display_data"
    }
   ],
   "source": [
    "all_values = data_list[1].split(',')\n",
    "l= int(round(np.sqrt(len(all_values))))\n",
    "image_array = np.asfarray(all_values[1:]).reshape(l,l)\n",
    "plt.imshow(image_array, cmap='Greys', interpolation= 'None')"
   ]
  },
  {
   "cell_type": "code",
   "execution_count": 5,
   "metadata": {},
   "outputs": [],
   "source": [
    "all_array= data_list[11].split(',')\n",
    "# np.array(all_array[1:]).reshape(28,28) #string element [['0', '0', '0'....]]\n",
    "im = np.asfarray(all_array[1:]).reshape(28,28) #list element float value, asfarray==> str>> theke float value\n",
    "# type(np.array(all_array[1:]))\n"
   ]
  },
  {
   "cell_type": "code",
   "execution_count": 54,
   "metadata": {},
   "outputs": [],
   "source": [
    "#feaature scaling\n",
    "scaled_input = (np.asfarray(all_values[1:])/255 *0.99) + 0.01\n",
    "# scaled_input"
   ]
  },
  {
   "cell_type": "code",
   "execution_count": 55,
   "metadata": {},
   "outputs": [],
   "source": [
    "#feaature scaling\n",
    "scaled_input = (im)/255 *0.99 + 0.01\n",
    "# scaled_input"
   ]
  },
  {
   "cell_type": "code",
   "execution_count": 13,
   "metadata": {},
   "outputs": [
    {
     "name": "stdout",
     "output_type": "stream",
     "text": [
      "[0.99 0.01 0.01 0.01 0.01 0.01 0.01 0.01 0.01 0.01]\n"
     ]
    }
   ],
   "source": [
    "onodes = 10\n",
    "targets = np.zeros(onodes)+.01\n",
    "targets[int(all_values[0])]=0.99\n",
    "print(targets)"
   ]
  },
  {
   "cell_type": "code",
   "execution_count": 63,
   "metadata": {},
   "outputs": [
    {
     "data": {
      "text/plain": [
       "9"
      ]
     },
     "execution_count": 63,
     "metadata": {},
     "output_type": "execute_result"
    }
   ],
   "source": [
    "# all_values = data_list[0].split(',')\n",
    "# int(all_values[0])\n",
    "all_values= data_list[4].split(',')\n",
    "# all_values\n",
    "int(all_values[0])"
   ]
  },
  {
   "cell_type": "code",
   "execution_count": 67,
   "metadata": {},
   "outputs": [
    {
     "data": {
      "text/plain": [
       "array([0. , 0. , 0. , 0. , 0. , 0. , 0. , 0. , 0. , 0.9])"
      ]
     },
     "execution_count": 67,
     "metadata": {},
     "output_type": "execute_result"
    }
   ],
   "source": [
    "targets= np.zeros(10)\n",
    "targets[int(all_values[0])]=0.9\n",
    "targets"
   ]
  },
  {
   "cell_type": "code",
   "execution_count": 30,
   "metadata": {},
   "outputs": [
    {
     "data": {
      "text/plain": [
       "array([0.01, 0.01, 0.01, 0.01, 0.01, 0.99, 0.01, 0.01, 0.01, 0.01])"
      ]
     },
     "execution_count": 30,
     "metadata": {},
     "output_type": "execute_result"
    }
   ],
   "source": [
    "targets= np.zeros(10)+0.01\n",
    "targets[5]=0.99\n",
    "targets"
   ]
  },
  {
   "cell_type": "code",
   "execution_count": 6,
   "metadata": {},
   "outputs": [],
   "source": [
    "input_nodes= 784\n",
    "output_nodes= 10\n",
    "hidden_nodes=200\n",
    "lr= 0.3\n",
    "n= Neural_network(input_nodes, hidden_nodes, output_nodes, lr)\n"
   ]
  },
  {
   "cell_type": "code",
   "execution_count": 7,
   "metadata": {},
   "outputs": [],
   "source": [
    "for i in data_list:\n",
    "    all_values = i.split(',')\n",
    "    inputs = (np.asfarray(np.array(all_values[1:]))/255*0.99)+0.01 # feature scaling\n",
    "    targets = np.zeros(10) + 0.01 #probable output strucure\n",
    "    targets[int(all_values[0])]=0.99\n",
    "    n.train(inputs, targets)  "
   ]
  },
  {
   "cell_type": "code",
   "execution_count": 32,
   "metadata": {},
   "outputs": [
    {
     "data": {
      "text/plain": [
       "array([0., 0., 0., 0., 0., 1., 0., 0., 0., 0.])"
      ]
     },
     "execution_count": 32,
     "metadata": {},
     "output_type": "execute_result"
    }
   ],
   "source": [
    "# for i in data_list:\n",
    "#     i= i.split(',')\n",
    "#     break\n",
    "# targets= np.zeros(10)\n",
    "# targets[int(i[0])]=1\n",
    "# targets"
   ]
  },
  {
   "cell_type": "markdown",
   "metadata": {},
   "source": [
    "# dealing the test dataset"
   ]
  },
  {
   "cell_type": "code",
   "execution_count": 8,
   "metadata": {},
   "outputs": [],
   "source": [
    "test_data_file = open('mnist_test_10.csv', 'r')\n",
    "test_data_list = test_data_file.readlines()\n",
    "test_data_file.close()\n"
   ]
  },
  {
   "cell_type": "code",
   "execution_count": 9,
   "metadata": {},
   "outputs": [
    {
     "data": {
      "text/plain": [
       "'7'"
      ]
     },
     "execution_count": 9,
     "metadata": {},
     "output_type": "execute_result"
    }
   ],
   "source": [
    "all_values= test_data_list[0].split(',')\n",
    "all_values[0]"
   ]
  },
  {
   "cell_type": "markdown",
   "metadata": {},
   "source": [
    "## Lets check the pixel value for this output i,e all values of the list except 1st one"
   ]
  },
  {
   "cell_type": "code",
   "execution_count": 10,
   "metadata": {},
   "outputs": [],
   "source": [
    "import matplotlib.pyplot as plt\n",
    "import numpy as np"
   ]
  },
  {
   "cell_type": "code",
   "execution_count": 11,
   "metadata": {},
   "outputs": [
    {
     "data": {
      "text/plain": [
       "<matplotlib.image.AxesImage at 0x20e5a7a0dc8>"
      ]
     },
     "execution_count": 11,
     "metadata": {},
     "output_type": "execute_result"
    },
    {
     "data": {
      "image/png": "[encoded data removed]",
      "text/plain": [
       "<Figure size 432x288 with 1 Axes>"
      ]
     },
     "metadata": {
      "needs_background": "light"
     },
     "output_type": "display_data"
    }
   ],
   "source": [
    "image_array= np.asfarray(all_values[1:]).reshape(28,28)\n",
    "plt.imshow(image_array, cmap='Greys')"
   ]
  },
  {
   "cell_type": "markdown",
   "metadata": {},
   "source": [
    "## Let's check the result form out query method of NN class"
   ]
  },
  {
   "cell_type": "code",
   "execution_count": 12,
   "metadata": {},
   "outputs": [
    {
     "data": {
      "text/plain": [
       "array([[0.34369555],\n",
       "       [0.19481292],\n",
       "       [0.68773237],\n",
       "       [0.13197404],\n",
       "       [0.84426715],\n",
       "       [0.05029113],\n",
       "       [0.47945646],\n",
       "       [0.34978447],\n",
       "       [0.1006004 ],\n",
       "       [0.948272  ]])"
      ]
     },
     "execution_count": 12,
     "metadata": {},
     "output_type": "execute_result"
    }
   ],
   "source": [
    "input_nodes= 784\n",
    "output_nodes= 10\n",
    "hidden_nodes=100\n",
    "lr= 0.3\n",
    "n= Neural_network(input_nodes, hidden_nodes, output_nodes, lr)\n",
    "n.query((np.asfarray(all_values[1:])/255.0*0.99)+0.01)  #look at the result it shows 1 but should be 7"
   ]
  },
  {
   "cell_type": "code",
   "execution_count": 13,
   "metadata": {},
   "outputs": [
    {
     "data": {
      "text/plain": [
       "array([[0.61420278],\n",
       "       [0.3346152 ],\n",
       "       [0.93504072],\n",
       "       [0.24815523],\n",
       "       [0.72165185],\n",
       "       [0.17010588],\n",
       "       [0.41202251],\n",
       "       [0.83463069],\n",
       "       [0.32371323],\n",
       "       [0.9462231 ]])"
      ]
     },
     "execution_count": 13,
     "metadata": {},
     "output_type": "execute_result"
    }
   ],
   "source": [
    "input_nodes= 784\n",
    "output_nodes= 10\n",
    "hidden_nodes=100\n",
    "lr= 0.1\n",
    "n= Neural_network(input_nodes, hidden_nodes, output_nodes, lr)\n",
    "n.query((np.asfarray(all_values[1:])/255.0*0.99)+0.01) #still no improvement,"
   ]
  },
  {
   "cell_type": "markdown",
   "metadata": {},
   "source": [
    "## lest increase the hidden units to 150..."
   ]
  },
  {
   "cell_type": "code",
   "execution_count": 29,
   "metadata": {},
   "outputs": [
    {
     "data": {
      "text/plain": [
       "7"
      ]
     },
     "execution_count": 29,
     "metadata": {},
     "output_type": "execute_result"
    }
   ],
   "source": [
    "input_nodes= 784\n",
    "output_nodes= 10\n",
    "hidden_nodes=200\n",
    "lr= 0.01\n",
    "n= Neural_network(input_nodes, hidden_nodes, output_nodes, lr)\n",
    "r=n.query((np.asfarray(all_values[1:])/255.0*0.99)+0.01) #still no improvement,it gives us 4\n",
    "np.argmax(r)"
   ]
  },
  {
   "cell_type": "code",
   "execution_count": 18,
   "metadata": {},
   "outputs": [
    {
     "data": {
      "text/plain": [
       "array([[0.28893695],\n",
       "       [0.68909298],\n",
       "       [0.19921843],\n",
       "       [0.91253689],\n",
       "       [0.60325762],\n",
       "       [0.27895933],\n",
       "       [0.76774403],\n",
       "       [0.85248849],\n",
       "       [0.41497778],\n",
       "       [0.09085659]])"
      ]
     },
     "execution_count": 18,
     "metadata": {},
     "output_type": "execute_result"
    }
   ],
   "source": [
    "input_nodes= 784\n",
    "output_nodes= 10\n",
    "hidden_nodes=200\n",
    "lr= 0.3\n",
    "n= Neural_network(input_nodes, hidden_nodes, output_nodes, lr)\n",
    "predict= n.query((np.asfarray(all_values[1:])/255.0*0.99)+0.01) #Yest it is 7\n",
    "# result = np.argmax(predict)\n",
    "# result\n",
    "predict"
   ]
  },
  {
   "cell_type": "markdown",
   "metadata": {},
   "source": [
    "## Lets Check for all the test set"
   ]
  },
  {
   "cell_type": "code",
   "execution_count": 31,
   "metadata": {},
   "outputs": [
    {
     "name": "stdout",
     "output_type": "stream",
     "text": [
      "7 the actual answer\n",
      "7 Predicted answer\n",
      "2 the actual answer\n",
      "7 Predicted answer\n",
      "1 the actual answer\n",
      "7 Predicted answer\n",
      "0 the actual answer\n",
      "7 Predicted answer\n",
      "4 the actual answer\n",
      "7 Predicted answer\n",
      "1 the actual answer\n",
      "7 Predicted answer\n",
      "4 the actual answer\n",
      "7 Predicted answer\n",
      "9 the actual answer\n",
      "7 Predicted answer\n",
      "5 the actual answer\n",
      "5 Predicted answer\n",
      "9 the actual answer\n",
      "7 Predicted answer\n",
      "[1, 0, 0, 0, 0, 0, 0, 0, 1, 0]\n"
     ]
    }
   ],
   "source": [
    "score=[]\n",
    "for r in test_data_list:\n",
    "    all_values= r.split(',')\n",
    "    inputs = (np.asfarray(all_values[1:])/255*0.99)+0.01\n",
    "    corrects = int(r[0])\n",
    "    print(corrects, 'the actual answer')\n",
    "    predicts = n.query(inputs)\n",
    "    label = np.argmax(predicts)\n",
    "    print(label, \"Predicted answer\" )\n",
    "    if (label==corrects):\n",
    "        score.append(1)\n",
    "    else:\n",
    "        score.append(0)\n",
    "print(score)"
   ]
  },
  {
   "cell_type": "code",
   "execution_count": 35,
   "metadata": {},
   "outputs": [
    {
     "name": "stdout",
     "output_type": "stream",
     "text": [
      "7\n"
     ]
    }
   ],
   "source": [
    "for r in test_data_list:\n",
    "    print(int(r[0]))\n",
    "    break"
   ]
  }
 ],
 "metadata": {
  "kernelspec": {
   "display_name": "Python 3 (ipykernel)",
   "language": "python",
   "name": "python3"
  },
  "language_info": {
   "codemirror_mode": {
    "name": "ipython",
    "version": 3
   },
   "file_extension": ".py",
   "mimetype": "text/x-python",
   "name": "python",
   "nbconvert_exporter": "python",
   "pygments_lexer": "ipython3",
   "version": "3.9.2"
  }
 },
 "nbformat": 4,
 "nbformat_minor": 2
}
